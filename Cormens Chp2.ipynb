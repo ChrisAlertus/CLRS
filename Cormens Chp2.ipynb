{
 "cells": [
  {
   "cell_type": "markdown",
   "metadata": {},
   "source": [
    "# Cormen Algorithms Book Chapter 2: Getting Started\n",
    "    \n",
    "## Insertion Sort"
   ]
  },
  {
   "cell_type": "code",
   "execution_count": 2,
   "metadata": {
    "collapsed": true
   },
   "outputs": [],
   "source": [
    "// C++\n",
    "\n",
    "int* insertion_sort(int* array)\n",
    "{\n",
    "    for(int i=1;i < array.length();i++)\n",
    "    {\n",
    "        num = array[i];\n",
    "        j= i-1;\n",
    "        while((j >= 0) && (array[j]>num))\n",
    "        {\n",
    "            array[j+1]= array[j];\n",
    "            j--;\n",
    "        }\n",
    "        array[j+1]= num;\n",
    "    }\n",
    "}"
   ]
  },
  {
   "cell_type": "code",
   "execution_count": 18,
   "metadata": {
    "collapsed": false
   },
   "outputs": [
    {
     "name": "stdout",
     "output_type": "stream",
     "text": [
      "[1, 2, 3, 4, 5, 6]\n"
     ]
    }
   ],
   "source": [
    "# Python\n",
    "\n",
    "def insertion_sort(array):\n",
    "    for idx in range(len(array))[1:]:\n",
    "        num = array[idx]\n",
    "        sortedidx= idx-1\n",
    "        while (sortedidx >= 0) & (array[sortedidx] > num):\n",
    "            array[sortedidx + 1]= array[sortedidx]\n",
    "            sortedidx-= 1\n",
    "        array[sortedidx + 1]= num\n",
    "    print array\n",
    "    return\n",
    "\n",
    "insertion_sort([5,2,4,6,1,3])"
   ]
  },
  {
   "cell_type": "markdown",
   "metadata": {},
   "source": [
    "### Loop Invariants and Program correctness\n",
    "\n",
    "Must show three things:\n",
    " - Initialization: invariant true prior to first loop iteration\n",
    " - Maintenance: if true before first, remains true after next\n",
    " - Termination: when loop ends, invariant gives a useful property that helps show correctness"
   ]
  },
  {
   "cell_type": "markdown",
   "metadata": {},
   "source": [
    "#### Ex 2.1-1\n",
    "Insertion sort on: 31,41,59,26,41,58\n",
    "> 31,41,59,26,41,58\n",
    "> 31,41,59,26,41,58\n",
    ">     31,41,26,59,41,58\n",
    ">     31,26,41,59,41,58\n",
    "> 26,31,41,59,41,58\n",
    "> 26,31,41,41,59,58\n",
    "> 26,31,41,41,58,59"
   ]
  },
  {
   "cell_type": "markdown",
   "metadata": {},
   "source": [
    "#### Ex 2.1-2\n",
    "Insertion sort in nonincreasing order\n",
    "\n",
    "// C++\n",
    "\n",
    "int* insertion_sort(int* array)\n",
    "{\n",
    "    for(int i=1;i < array.length();i++)\n",
    "    {\n",
    "        num = array[i];\n",
    "        j= i-1;\n",
    "        while((j >= 0) && (array[j]<num))\n",
    "        {\n",
    "            array[j+1]= array[j];\n",
    "            j--;\n",
    "        }\n",
    "        array[j+1]= num;\n",
    "    }\n",
    "}"
   ]
  },
  {
   "cell_type": "code",
   "execution_count": 19,
   "metadata": {
    "collapsed": false
   },
   "outputs": [
    {
     "name": "stdout",
     "output_type": "stream",
     "text": [
      "[6, 5, 4, 3, 2, 1]\n"
     ]
    }
   ],
   "source": [
    "# Python: nonincreasing\n",
    "\n",
    "def insertion_sort(array):\n",
    "    for idx in range(len(array))[1:]:\n",
    "        num = array[idx]\n",
    "        sortedidx= idx-1\n",
    "        while (sortedidx >= 0) & (array[sortedidx] < num):\n",
    "            array[sortedidx + 1]= array[sortedidx]\n",
    "            sortedidx-= 1\n",
    "        array[sortedidx + 1]= num\n",
    "    print array\n",
    "    return\n",
    "\n",
    "insertion_sort([5,2,4,6,1,3])"
   ]
  },
  {
   "cell_type": "code",
   "execution_count": null,
   "metadata": {
    "collapsed": true
   },
   "outputs": [],
   "source": [
    "# Exercise 2.1-3 : Searching problem ~ Linear Search\n",
    "#Python\n",
    "\n",
    "def linear_search(array, v):\n",
    "    for idx in range(len(array)):\n",
    "        if(array[idx] == v):\n",
    "            return idx\n",
    "    return"
   ]
  },
  {
   "cell_type": "code",
   "execution_count": null,
   "metadata": {
    "collapsed": true
   },
   "outputs": [],
   "source": [
    "// C++\n",
    "\n",
    "int linear_search(int* array, int v)\n",
    "{\n",
    "    for(int idx=0;i < array.length();i++)\n",
    "    {\n",
    "        if(array[idx] == v) return idx;\n",
    "    }\n",
    "    return 0;\n",
    "}"
   ]
  },
  {
   "cell_type": "markdown",
   "metadata": {},
   "source": [
    "Loop invariant:\n",
    "\n",
    "111\n",
    "110\n",
    "\n",
    "1101"
   ]
  }
 ],
 "metadata": {
  "kernelspec": {
   "display_name": "Python 2",
   "language": "python",
   "name": "python2"
  },
  "language_info": {
   "codemirror_mode": {
    "name": "ipython",
    "version": 2
   },
   "file_extension": ".py",
   "mimetype": "text/x-python",
   "name": "python",
   "nbconvert_exporter": "python",
   "pygments_lexer": "ipython2",
   "version": "2.7.10"
  }
 },
 "nbformat": 4,
 "nbformat_minor": 0
}
